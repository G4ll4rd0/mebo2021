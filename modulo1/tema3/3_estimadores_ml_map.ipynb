{
 "cells": [
  {
   "cell_type": "markdown",
   "metadata": {},
   "source": [
    "# Estimadores de máxima verosimilitud: Repaso\n",
    "\n",
    "![MLE](https://upload.wikimedia.org/wikipedia/commons/thumb/8/8d/MLfunctionbinomial-en.svg/600px-MLfunctionbinomial-en.svg.png)\n",
    "\n",
    "> La estimación por máxima verosimilitud (maximum likelihood estimation - MLE) es uno de los métodos más utilizados para estimar los parámetros de un modelo.\n",
    "\n",
    "> La idea básica, es elegir los parámetros que maximizan la función de verosimilitud. Intuitivamente, esto corresponde a elegir los parámetros que maximizan la probabilidad de los datos observados.\n",
    "\n",
    "Referencia:\n",
    "\n",
    "- https://www.univ-orleans.fr/deg/masters/ESA/CH/Chapter2_MLE.pdf"
   ]
  },
  {
   "cell_type": "markdown",
   "metadata": {},
   "source": [
    "## 1. Principios básicos\n",
    "\n",
    "**Retomamos el ejemplo de la moneda**.\n",
    "\n",
    "Definimos la variable aleatoria (discreta) binomial:\n",
    "\n",
    "$$\n",
    "X = \\left\\{ \\begin{array}{ccc} 1 & \\text{si} & \\text{la moneda cae cara} \\\\\n",
    "                               0 & \\text{si} & \\text{la moneda cae sello} \\end{array} \\right.\n",
    "$$\n",
    "\n",
    "con función de masa de probabilidad dada por:\n",
    "\n",
    "- $P(X=1) = P(X=1 | \\theta) = \\theta$;\n",
    "- $P(X=0) = P(X=0 | \\theta) = 1 - P(X=1) = 1 - \\theta$."
   ]
  },
  {
   "cell_type": "markdown",
   "metadata": {},
   "source": [
    "Ahora, suponemos que $X_1, X_2, \\dots, X_N$ representan las variables aleatorias correspondientes a $N$ tiros de la moneda. Estas variables aleatorias son **independientes**, e **idénticamente distribuidas** (i.i.d.).\n",
    "\n",
    "> En muchos contextos (incluidas las aplicaciones de aprendizaje de máquinas) se supone que las diferentes observaciones de los datos son i.i.d."
   ]
  },
  {
   "cell_type": "markdown",
   "metadata": {},
   "source": [
    "Ahora, ¿cuál es la probabilida de observar determinada sucesión de resultados de tiros de la moneda suponiendo que esta sigue la distribución de probabilidad dada arriba?\n",
    "\n",
    "Supongamos que observamos $\\{x_1, x_2, \\dots, x_N\\}$, donde $x_i = 0, 1$ para todo $i=1, \\dots, N$. Queremos entonces averiguar la probabilidad:\n",
    "\n",
    "$$\n",
    "P(X_1=x_1, X_2=x_2, \\dots, X_N=x_N | \\theta)\n",
    "$$\n",
    "\n",
    "> Esta probabilidad es una función del parámetro $\\theta$ (desconocido) y corresponde a la **verosimilitud de la muestra** $\\{x_1, x_2, \\dots, x_N\\}$, la cual denotamos por:\n",
    "  \n",
    "  $$\n",
    "  \\mathcal{L}(\\theta; x_1, x_2, \\dots, x_N) = P(X_1=x_1, X_2=x_2, \\dots, X_N=x_N | \\theta).\n",
    "  $$"
   ]
  },
  {
   "cell_type": "markdown",
   "metadata": {},
   "source": [
    "Como suponemos que las variables son **independientes**, tenemos que:\n",
    "\n",
    "\\begin{align}\n",
    "\\mathcal{L}(\\theta; x_1, x_2, \\dots, x_N) & = P(X_1=x_1, X_2=x_2, \\dots, X_N=x_N | \\theta) \\\\\n",
    "                                          & = P(X_1=x_1 | \\theta) P(X_2=x_2| \\theta) \\dots P(X_N=x_N | \\theta) \\\\\n",
    "                                          & = \\prod_{j=1}^{N} P(X_j = x_j | \\theta).\n",
    "\\end{align}"
   ]
  },
  {
   "cell_type": "markdown",
   "metadata": {},
   "source": [
    "Ahora, analicemos el término $P(X_j = x_j | \\theta)$. ¿Qué posibles valores puede tomar?\n",
    "\n",
    "$$\n",
    "P(X_j = x_j | \\theta) = \\left\\{ \\begin{array}{ccc} \\theta   & \\text{si} & x_j=1 \\\\\n",
    "                                                   1-\\theta & \\text{si} & x_j=0 \\end{array} \\right.\n",
    "$$"
   ]
  },
  {
   "cell_type": "markdown",
   "metadata": {},
   "source": [
    "De modo que la función de verosimilitud solo depende de cuantas veces de los $N$ tiros cayó cara, y cuantas veces de los $N$ tiros cayó sello.\n",
    "\n",
    "Denotemos por:\n",
    "\n",
    "- $N_0$: Número de veces que cayó sello.\n",
    "\n",
    "- $N_1$: Número de veces que cayó cara.\n",
    "\n",
    "Se debe satisfacer, claramente, que $N_0 + N_1 = N$."
   ]
  },
  {
   "cell_type": "markdown",
   "metadata": {},
   "source": [
    "De esta manera:\n",
    "\n",
    "$$\n",
    "\\mathcal{L}(\\theta; x_1, x_2, \\dots, x_N) = \\theta^{N_1} (1 - \\theta)^{N_0}.\n",
    "$$"
   ]
  },
  {
   "cell_type": "markdown",
   "metadata": {},
   "source": [
    "**Ejemplo:**\n",
    "\n",
    "Supongamos que tiramos la moneda 10 veces, y obtenemos:\n",
    "\n",
    "$$\n",
    "\\{0, 0, 1, 0, 1, 1, 1, 1, 0, 1\\}\n",
    "$$\n",
    "\n",
    "En este caso:\n",
    "- $N_0 = 4$\n",
    "- $N_1 = 6$"
   ]
  },
  {
   "cell_type": "markdown",
   "metadata": {},
   "source": [
    "Una idea razonable es encontrar $\\theta$ de manera que **la función verosimilitud sea máxima**, o equivalentemente, tal que **se maximice la probabilidad de la muestra observada**."
   ]
  },
  {
   "cell_type": "code",
   "execution_count": 1,
   "metadata": {},
   "outputs": [],
   "source": [
    "# Importamos numpy\n",
    "import numpy as np\n",
    "# Importamos matplotlib.pyplot\n",
    "from matplotlib import pyplot as plt\n",
    "%matplotlib inline"
   ]
  },
  {
   "cell_type": "code",
   "execution_count": 2,
   "metadata": {},
   "outputs": [],
   "source": [
    "# Calculamos la función de verosimilitud con los datos del ejemplo\n",
    "N0 = 4\n",
    "N1 = 6\n",
    "theta = np.linspace(0, 1, 101)\n",
    "L = theta**N1 * (1 - theta)**N0"
   ]
  },
  {
   "cell_type": "code",
   "execution_count": 4,
   "metadata": {},
   "outputs": [
    {
     "data": {
      "text/plain": [
       "<matplotlib.legend.Legend at 0x7f8859ca6dd0>"
      ]
     },
     "execution_count": 4,
     "metadata": {},
     "output_type": "execute_result"
    },
    {
     "data": {
      "image/png": "[encoded data removed]",
      "text/plain": [
       "<Figure size 432x288 with 1 Axes>"
      ]
     },
     "metadata": {
      "needs_background": "light"
     },
     "output_type": "display_data"
    }
   ],
   "source": [
    "# Dibujamos la función de verosimilitud\n",
    "plt.figure(figsize=(6, 4))\n",
    "plt.plot(theta, L, lw=3, label=r'$\\mathcal{L}(\\theta: \\mathcal{D})=\\theta^{N_1}(1-\\theta)^{N_0}$')\n",
    "plt.grid()\n",
    "plt.axvline(x=theta[L.argmax()], c='k', ls='--')\n",
    "plt.xlabel(r'$\\theta$')\n",
    "plt.ylabel(r'$\\mathcal{L}$')\n",
    "plt.legend(loc='upper left', bbox_to_anchor=(1.05, 1))"
   ]
  },
  {
   "cell_type": "code",
   "execution_count": 5,
   "metadata": {},
   "outputs": [
    {
     "data": {
      "text/plain": [
       "0.6"
      ]
     },
     "execution_count": 5,
     "metadata": {},
     "output_type": "execute_result"
    }
   ],
   "source": [
    "# Aproximamos el valor máximo de la verosimilitud\n",
    "theta[L.argmax()]"
   ]
  },
  {
   "cell_type": "markdown",
   "metadata": {},
   "source": [
    "¿Cuál es el valor óptimo para $\\theta$?\n",
    "\n",
    "- Como dicta la intuición es ..."
   ]
  },
  {
   "cell_type": "markdown",
   "metadata": {},
   "source": [
    "Entonces, lo que nos dice el principio de máxima verosimilitud es: elegir $\\theta$ tal que\n",
    "\n",
    "$$\n",
    "\\hat{\\theta}_{MLE} = \\arg \\max_{\\theta} \\mathcal{L}(\\theta; x_1, x_2, \\dots, x_N) = \\theta^{N_1} (1 - \\theta)^{N_0}.\n",
    "$$"
   ]
  },
  {
   "cell_type": "markdown",
   "metadata": {},
   "source": [
    "### Truco común:\n",
    "\n",
    "- El logaritmo (natural) es una función creciente y cóncava.\n",
    "  - Por tanto,\n",
    "    \n",
    "    $$\n",
    "    \\arg \\max_{\\theta} \\mathcal{L}(\\theta; x_1, x_2, \\dots, x_N) = \\arg \\max_{\\theta} \\underbrace{\\log \\mathcal{L}(\\theta; x_1, x_2, \\dots, x_N)}_{l(\\theta; x_1, x_2, \\dots, x_N): \\text{ log-verosimilitud}}\n",
    "    $$\n",
    "    \n",
    "- La **log-verosimilitud** ofrece la ventaja de convertir las multiplicaciones en sumas:\n",
    "  \n",
    "  \\begin{align}\n",
    "  l(\\theta; x_1, x_2, \\dots, x_N) & = \\log \\mathcal{L}(\\theta; x_1, x_2, \\dots, x_N) \\\\\n",
    "                                  & = \\log \\left(\\theta^{N_1} (1 - \\theta)^{N_0} \\right) \\\\\n",
    "                                  & = N_1 \\log \\theta + N_0 \\log(1 - \\theta).\n",
    "  \\end{align}\n",
    "  \n",
    "  y en general, las sumas son más fáciles de derivar (y maximizar) que los productos.\n",
    "  \n",
    "> En general, la función de verosimilitud para muestras i.i.d. es:\n",
    "> \n",
    "> $$\n",
    "  \\mathcal{L}(\\theta; x_1, x_2, \\dots, x_N) = \\prod_{j=1}^{N} P(X_j = x_j | \\theta)\n",
    "  $$\n",
    ">  \n",
    "> de manera que la log-verosimilitud será:\n",
    ">\n",
    "> $$\n",
    "  \\mathcal{l}(\\theta; x_1, x_2, \\dots, x_N) = \\sum_{j=1}^{N} \\log P(X_j = x_j | \\theta)\n",
    "  $$"
   ]
  },
  {
   "cell_type": "markdown",
   "metadata": {},
   "source": [
    "<font color=green> Maximizar la log-verosimilitud para el ejemplo de la moneda en el pizarrón. </font>"
   ]
  },
  {
   "cell_type": "markdown",
   "metadata": {},
   "source": [
    "## 2. Estimación de máxima verosimilitud en una distribución normal\n",
    "\n",
    "En este caso tenemos:\n",
    "\n",
    "- Variable aleatoria $X \\sim \\mathcal{N}(\\mu, \\sigma^2)$.\n",
    "\n",
    "- $p(x;\\mu,\\sigma^2)=\\frac{1}{\\sqrt{2 \\pi}} \\exp\\left(-\\frac{(x-\\mu)^2}{2\\sigma^2}\\right)$."
   ]
  },
  {
   "cell_type": "markdown",
   "metadata": {},
   "source": [
    "Suponemos que las observaciones\n",
    "\n",
    "$$\\mathcal{D} = \\{x_1, \\dots, x_N\\}$$\n",
    "\n",
    "son independientes e idénticamente distribuidas."
   ]
  },
  {
   "cell_type": "markdown",
   "metadata": {},
   "source": [
    "Mostrar que los estimadores de máxima verosimilitud de $\\mu$ y $\\sigma$ son:\n",
    "\n",
    "$$\\hat{\\mu} = \\frac{1}{M} \\sum_{j=1}^{M}x[j] \\qquad \\text{y} \\qquad \\hat{\\sigma}=\\sqrt{\\frac{1}{M}\\sum_{j=1}^{M}(x[j]-\\hat{\\mu})^2}.$$"
   ]
  },
  {
   "cell_type": "markdown",
   "metadata": {},
   "source": [
    "<script>\n",
    "  $(document).ready(function(){\n",
    "    $('div.prompt').hide();\n",
    "    $('div.back-to-top').hide();\n",
    "    $('nav#menubar').hide();\n",
    "    $('.breadcrumb').hide();\n",
    "    $('.hidden-print').hide();\n",
    "  });\n",
    "</script>\n",
    "\n",
    "<footer id=\"attribution\" style=\"float:right; color:#808080; background:#fff;\">\n",
    "Created with Jupyter by Esteban Jiménez Rodríguez.\n",
    "</footer>"
   ]
  }
 ],
 "metadata": {
  "kernelspec": {
   "display_name": "Python 3",
   "language": "python",
   "name": "python3"
  },
  "language_info": {
   "codemirror_mode": {
    "name": "ipython",
    "version": 3
   },
   "file_extension": ".py",
   "mimetype": "text/x-python",
   "name": "python",
   "nbconvert_exporter": "python",
   "pygments_lexer": "ipython3",
   "version": "3.7.6"
  }
 },
 "nbformat": 4,
 "nbformat_minor": 4
}
