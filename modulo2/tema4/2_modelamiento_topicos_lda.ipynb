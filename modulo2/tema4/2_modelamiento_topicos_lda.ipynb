{
 "cells": [
  {
   "cell_type": "markdown",
   "metadata": {},
   "source": [
    "# Modelamiento de Tópicos Mediante Asignación Latente de Dirichlet\n",
    "\n",
    "<img style=\"float: right; margin: 0px 0px 15px 15px;\" src=\"https://upload.wikimedia.org/wikipedia/commons/4/4d/Wikipedia_15_-_Twitter_wordcloud.png\" width=\"500px\" height=\"300px\" />\n",
    "\n",
    "> En este notebook veremos un modelo muy poderoso para modelar documentos de texto de acuerdo a las proporciones de diferentes tópicos que contiene. Esta técnica es bastante poderosa, y sirve para:\n",
    "> 1. Representar documentos en vectores de tópicos.\n",
    "> 2. Identificar documentos con tópicos similares.\n",
    "> 3. Hacer clustering de documentos.\n",
    "> \n",
    "> Entre otros.\n",
    "\n",
    "> **Objetivos:**\n",
    "> - Entender qué es modelamiento de tópicos.\n",
    "> - Definir la distribución de Dirichlet.\n",
    "> - Entender la asignación latente de Dirichlet como un modelo generativo de texto.\n",
    "\n",
    "> **Referencias:**\n",
    "> - Bayesian Methods for Machine Learning course, HSE University, Coursera."
   ]
  },
  {
   "cell_type": "markdown",
   "metadata": {},
   "source": [
    "## 1. Modelamiento de tópicos\n",
    "\n",
    "Para entender qué es modelamiento de tópicos, veámoslo con un ejemplo.\n",
    "\n",
    "Supongamos que queremos construir un sistema de recomendación, el cual a partir de libros que ya has leido, te recomienda **libros de tópcios similares**.\n",
    "\n",
    "En este sentido, quisiéramos extraer los tópicos o temas del libro. Por ejemplo:"
   ]
  },
  {
   "cell_type": "markdown",
   "metadata": {},
   "source": [
    "<img style=\"float: right; margin: 0px 0px 15px 15px;\" src=\"https://images-na.ssl-images-amazon.com/images/I/41TmbdP0EZL._SX331_BO1,204,203,200_.jpg\" width=\"200px\" height=\"100px\" />\n",
    "\n",
    "> - Statistics: 40%\n",
    "\n",
    "> - Machine Learning: 40%\n",
    "\n",
    "> - R: 20%"
   ]
  },
  {
   "cell_type": "markdown",
   "metadata": {},
   "source": [
    "<img style=\"float: right; margin: 0px 0px 15px 15px;\" src=\"https://images-na.ssl-images-amazon.com/images/I/61GPrIQcOvL._SY264_BO1,204,203,200_QL40_ML2_.jpg\" width=\"200px\" height=\"100px\" />\n",
    "\n",
    "> - Statistics: 40%\n",
    "\n",
    "> - Machine Learning: 60%\n",
    "\n",
    "> - R: 0%"
   ]
  },
  {
   "cell_type": "markdown",
   "metadata": {},
   "source": [
    "De esta manera, podemos interpretar lo siguiente:\n",
    "\n",
    "> Un **documento** es una distribución sobre tópicos."
   ]
  },
  {
   "cell_type": "markdown",
   "metadata": {},
   "source": [
    "¿Y qué son los **tópicos**?\n",
    "\n",
    "Si hablamos de un tópico en particular nos encotraremos que algunas palabras son muchísimo más frecuentes que otras, por ejemplo:\n",
    "\n",
    "| Statistics            | Machine Learning         | R                   |\n",
    "| --------------------- | ------------------------ | ------------------- |\n",
    "| 20% Random Variables  | 10% Supervised           | 15% Programming     |\n",
    "| 10% Distributions     | 8% Unsupervised          | 10% Data            |\n",
    "| 10% Bayes             | 5% Overfitting           | 5% Functions        |\n",
    "| 2% Hypothesis         | 3% Hyperparameters       | 5% Model            |\n",
    "| ...                   | ...                      | ...                 |\n",
    "\n",
    "Por tanto:\n",
    "\n",
    "> Un **tópico** es una distribución sobre palabras."
   ]
  },
  {
   "cell_type": "markdown",
   "metadata": {},
   "source": [
    "Usando los tópicos podemos construir el texto:\n",
    "\n",
    "- We can use the $\\underbrace{\\text{Bayes}}_{\\text{Statistics}}$ theorem to construct both $\\underbrace{\\text{supervised}}_{\\text{Machine Learning}}$ and $\\underbrace{\\text{unsupervised}}_{\\text{Machine Learning}}$ $\\underbrace{\\text{models}}_{\\text{R}}$."
   ]
  },
  {
   "cell_type": "markdown",
   "metadata": {},
   "source": [
    "Teniendo esto claro, volvamos a nuestro ejemplo de sistema de recomendación.\n",
    "\n",
    "**¿Cómo podemos evaluar que un libro se parece a otro?**"
   ]
  },
  {
   "cell_type": "markdown",
   "metadata": {},
   "source": [
    "<img style=\"float: right; margin: 0px 0px 15px 15px;\" src=\"https://images-na.ssl-images-amazon.com/images/I/41TmbdP0EZL._SX331_BO1,204,203,200_.jpg\" width=\"200px\" height=\"100px\" />\n",
    "\n",
    "> - Statistics: 40%\n",
    "\n",
    "> - Machine Learning: 40%\n",
    "\n",
    "> - R: 20%\n",
    "\n",
    "Así:\n",
    "\n",
    "$$x = \\left[\\begin{array}{c} 0.4 \\\\ 0.4 \\\\ 0.2 \\end{array}\\right]$$"
   ]
  },
  {
   "cell_type": "markdown",
   "metadata": {},
   "source": [
    "<img style=\"float: right; margin: 0px 0px 15px 15px;\" src=\"https://images-na.ssl-images-amazon.com/images/I/61GPrIQcOvL._SY264_BO1,204,203,200_QL40_ML2_.jpg\" width=\"200px\" height=\"100px\" />\n",
    "\n",
    "> - Statistics: 40%\n",
    "\n",
    "> - Machine Learning: 60%\n",
    "\n",
    "> - R: 0%\n",
    "\n",
    "Así:\n",
    "\n",
    "$$y = \\left[\\begin{array}{c} 0.4 \\\\ 0.6 \\\\ 0.0 \\end{array}\\right]$$"
   ]
  },
  {
   "cell_type": "markdown",
   "metadata": {},
   "source": [
    "Una vez que tenemos la representación numérica de estos documentos, podemos calcular alguna medida de similaridad entre ambos:\n",
    "\n",
    "1. Distancia Euclidiana:\n",
    "\n",
    "   $$\n",
    "   ||x - y||_2 = \\sqrt{\\sum_i (x_i - y_i)^2} \\approx 0.2828\n",
    "   $$\n",
    "   \n",
    "   - Mientras más cercano a cero, más parecidos.\n",
    "   \n"
   ]
  },
  {
   "cell_type": "code",
   "execution_count": 1,
   "metadata": {},
   "outputs": [
    {
     "data": {
      "text/plain": [
       "0.282842712474619"
      ]
     },
     "execution_count": 1,
     "metadata": {},
     "output_type": "execute_result"
    }
   ],
   "source": [
    "import numpy as np\n",
    "\n",
    "x = np.array([0.4, 0.4, 0.2])\n",
    "y = np.array([0.4, 0.6, 0])\n",
    "np.linalg.norm(x - y)"
   ]
  },
  {
   "cell_type": "markdown",
   "metadata": {},
   "source": [
    "2. Similaridad de coseno:\n",
    "\n",
    "   $$\n",
    "   \\cos(x, y) = \\frac{x^T y}{||x|| \\cdot ||y||} \\approx 0.9245\n",
    "   $$\n",
    "   \n",
    "   - Mientras más cercano a uno, más parecidos."
   ]
  },
  {
   "cell_type": "code",
   "execution_count": 5,
   "metadata": {},
   "outputs": [
    {
     "data": {
      "text/plain": [
       "array([[0.92450033]])"
      ]
     },
     "execution_count": 5,
     "metadata": {},
     "output_type": "execute_result"
    }
   ],
   "source": [
    "from sklearn.metrics.pairwise import cosine_similarity\n",
    "\n",
    "cosine_similarity(x.reshape(1, -1), y.reshape(1, -1))"
   ]
  },
  {
   "cell_type": "code",
   "execution_count": 6,
   "metadata": {},
   "outputs": [
    {
     "data": {
      "text/plain": [
       "0.9245003270420484"
      ]
     },
     "execution_count": 6,
     "metadata": {},
     "output_type": "execute_result"
    }
   ],
   "source": [
    "x.T.dot(y) / (np.linalg.norm(x) * np.linalg.norm(y))"
   ]
  },
  {
   "cell_type": "markdown",
   "metadata": {},
   "source": [
    "Entonces, tenemos dos objetivos principales:\n",
    "\n",
    "1. Construir los tópicos de manera automática (no supervisado). No tendremos etiquetas de los tópicos, pero podremos inferirlos revisando las palabras más relevantes.\n",
    "\n",
    "| ?            | ?         | ?                   |\n",
    "| --------------------- | ------------------------ | ------------------- |\n",
    "| 20% Random Variables  | 10% Supervised           | 15% Programming     |\n",
    "| 10% Distributions     | 8% Unsupervised          | 10% Data            |\n",
    "| 10% Bayes             | 5% Overfitting           | 5% Functions        |\n",
    "| 2% Hypothesis         | 3% Hyperparameters       | 5% Model            |\n",
    "| ...                   | ...                      | ...                 |\n",
    "\n",
    "2. Asignar la distribución de tópicos a cada texto."
   ]
  },
  {
   "cell_type": "markdown",
   "metadata": {},
   "source": [
    "## 2. Distribución de Dirichlet\n",
    "\n",
    "Antes de continuar con nuestro modelamiento de tópicos, veamos una distribución de probabilidad fundamental: **La Distribución de Dirichlet**."
   ]
  },
  {
   "cell_type": "markdown",
   "metadata": {},
   "source": [
    "La distribución de Dirichlet es una distribución continua (generalización de la **Distribución Beta**) y se define como sigue:\n",
    "\n",
    "$$\n",
    "\\text{Dir}(\\theta | \\alpha) = \\frac{1}{B(\\alpha)} \\prod_{k=1}^{K} \\theta_k^{\\alpha_k - 1},\n",
    "$$\n",
    "\n",
    "donde $\\alpha = \\left[\\alpha_1 \\quad \\dots \\quad \\alpha_K\\right]^T \\in \\mathbb{R}_{>0}^{K}$, y el soporte de la distribución es:\n",
    "\n",
    "$$\n",
    "0 < \\theta_k < 1 \\quad \\forall k, \\qquad \\text{y} \\qquad \\sum_{k=1}^{K} \\theta_k = 1.\n",
    "$$\n",
    "\n",
    "Además, \n",
    "\n",
    "$$\n",
    "B(\\alpha) = \\frac{\\prod_{k=1}^{K} \\Gamma(\\alpha_k)}{\\Gamma\\left(\\sum_{k=1}^{K} \\alpha_k\\right)}.\n",
    "$$"
   ]
  },
  {
   "cell_type": "markdown",
   "metadata": {},
   "source": [
    "Es importante notar que la región descrita por:\n",
    "\n",
    "$$\n",
    "0 < \\theta_k < 1 \\quad \\forall k, \\qquad \\text{y} \\qquad \\sum_{k=1}^{K} \\theta_k = 1.\n",
    "$$\n",
    "\n",
    "se llama **símplex**. \n",
    "\n",
    "1. ¿Cómo luce un símplex para $K=2$? -> Distribución Beta\n",
    "2. ¿Cómo luce un símplex para $K=3$?"
   ]
  },
  {
   "cell_type": "markdown",
   "metadata": {},
   "source": [
    "![](https://upload.wikimedia.org/wikipedia/commons/5/54/LogDirichletDensity-alpha_0.3_to_alpha_2.0.gif)\n",
    "\n",
    "Ilustración de cómo cambia el logaritmo de la función de densidad para $K=3$, variando el vector $\\alpha$ de (0.3, 0.3, 0.3) a (2.0, 2.0, 2.0), manteniendo  los $\\alpha_i$ iguales.\n",
    "\n",
    "Tomado de: https://en.wikipedia.org/wiki/Dirichlet_distribution"
   ]
  },
  {
   "cell_type": "markdown",
   "metadata": {},
   "source": [
    "El siguiente código fue tomado de:\n",
    "\n",
    "http://blog.bogatron.net/blog/2014/02/02/visualizing-dirichlet-distributions/"
   ]
  },
  {
   "cell_type": "code",
   "execution_count": 7,
   "metadata": {},
   "outputs": [],
   "source": [
    "# Importamos librerías\n",
    "from matplotlib import pyplot as plt\n",
    "from scipy.stats import dirichlet\n",
    "from matplotlib import tri\n",
    "import numpy as np"
   ]
  },
  {
   "cell_type": "code",
   "execution_count": 9,
   "metadata": {},
   "outputs": [],
   "source": [
    "corners = np.array([[0, 0], [1, 0], [0.5, 0.75**0.5]])\n",
    "AREA = 0.5 * 1 * 0.75**0.5\n",
    "triangle = tri.Triangulation(corners[:, 0], corners[:, 1])"
   ]
  },
  {
   "cell_type": "code",
   "execution_count": 10,
   "metadata": {},
   "outputs": [],
   "source": [
    "# For each corner of the triangle, the pair of other corners\n",
    "pairs = [corners[np.roll(range(3), -i)[1:]] for i in range(3)]\n",
    "# The area of the triangle formed by point xy and another pair or points\n",
    "tri_area = lambda xy, pair: 0.5 * np.linalg.norm(np.cross(*(pair - xy)))\n",
    "\n",
    "def xy2bc(xy):\n",
    "    '''Converts 2D Cartesian coordinates to barycentric.'''\n",
    "    coords = np.array([tri_area(xy, p) for p in pairs]) / AREA\n",
    "    return np.clip(coords, 0, 1.0)"
   ]
  },
  {
   "cell_type": "code",
   "execution_count": 11,
   "metadata": {},
   "outputs": [],
   "source": [
    "def draw_pdf_contours(X, nlevels=200, subdiv=6, **kwargs):\n",
    "    import math\n",
    "\n",
    "    refiner = tri.UniformTriRefiner(triangle)\n",
    "    trimesh = refiner.refine_triangulation(subdiv=subdiv)\n",
    "    pvals = [X.pdf(xy2bc(xy)) for xy in zip(trimesh.x, trimesh.y)]\n",
    "\n",
    "    plt.tricontourf(trimesh, pvals, nlevels, cmap='jet', **kwargs)\n",
    "    plt.axis('equal')\n",
    "    plt.xlim(0, 1)\n",
    "    plt.ylim(0, 0.75**0.5)\n",
    "    plt.axis('off')"
   ]
  },
  {
   "cell_type": "code",
   "execution_count": 12,
   "metadata": {},
   "outputs": [
    {
     "data": {
      "image/png": "[encoded data removed]",
      "text/plain": [
       "<Figure size 432x288 with 1 Axes>"
      ]
     },
     "metadata": {
      "needs_background": "light"
     },
     "output_type": "display_data"
    }
   ],
   "source": [
    "# Distribución Uniforme\n",
    "draw_pdf_contours(dirichlet(alpha=[1, 1, 1]))"
   ]
  },
  {
   "cell_type": "code",
   "execution_count": 13,
   "metadata": {},
   "outputs": [
    {
     "data": {
      "image/png": "[encoded data removed]",
      "text/plain": [
       "<Figure size 432x288 with 1 Axes>"
      ]
     },
     "metadata": {
      "needs_background": "light"
     },
     "output_type": "display_data"
    }
   ],
   "source": [
    "draw_pdf_contours(dirichlet(alpha=[2, 2, 2]))"
   ]
  },
  {
   "cell_type": "code",
   "execution_count": 14,
   "metadata": {},
   "outputs": [
    {
     "data": {
      "image/png": "[encoded data removed]",
      "text/plain": [
       "<Figure size 432x288 with 1 Axes>"
      ]
     },
     "metadata": {
      "needs_background": "light"
     },
     "output_type": "display_data"
    }
   ],
   "source": [
    "draw_pdf_contours(dirichlet(alpha=[5, 3, 2]))"
   ]
  },
  {
   "cell_type": "code",
   "execution_count": 15,
   "metadata": {},
   "outputs": [
    {
     "data": {
      "image/png": "[encoded data removed]",
      "text/plain": [
       "<Figure size 432x288 with 1 Axes>"
      ]
     },
     "metadata": {
      "needs_background": "light"
     },
     "output_type": "display_data"
    }
   ],
   "source": [
    "draw_pdf_contours(dirichlet(alpha=[10, 3, 2]))"
   ]
  },
  {
   "cell_type": "markdown",
   "metadata": {},
   "source": [
    "Los parámetros $\\alpha_k$ influyen directamente en la concentración de la densidad de la distribución en el símplex. Los que jugaban fútbol en play station deben recordar diagramas de este estilo cuyos vértices eran:\n",
    "\n",
    "- Stamina\n",
    "- Speed\n",
    "- Strength\n",
    "- Definition\n",
    "- Pass\n",
    "- ..."
   ]
  },
  {
   "cell_type": "markdown",
   "metadata": {},
   "source": [
    "**Estadísticos importantes:**\n",
    "\n",
    "Para la distribución de Dirichlet:\n",
    "\n",
    "$$\n",
    "\\text{Dir}(\\theta | \\alpha) = \\frac{1}{B(\\alpha)} \\prod_{k=1}^{K} \\theta_k^{\\alpha_k - 1},\n",
    "$$\n",
    "\n",
    "se tiene que $\\left(\\alpha_0 = \\sum_{k=1}^{K} \\alpha_k\\right)$:\n",
    "\n",
    "1. Media\n",
    "  \n",
    "   $$\n",
    "   \\mathbb{E}[\\theta_k] = \\frac{\\alpha_k}{\\alpha_0}\n",
    "   $$\n",
    "   \n",
    "2. Moda\n",
    "     \n",
    "   $$\n",
    "   \\text{Mode}[\\theta_k] = \\frac{\\alpha_k - 1}{\\alpha_0 - K}\n",
    "   $$\n",
    "\n",
    "3. Varianza\n",
    "   \n",
    "   $$\n",
    "   \\text{Var}[\\theta_k] = \\frac{\\alpha_k (\\alpha_0 - \\alpha_k)}{\\alpha_0^2 (\\alpha_0 + 1)}\n",
    "   $$\n",
    "   \n",
    "4. Covarianza\n",
    "   \n",
    "   $$\n",
    "   \\text{Cov}[\\theta_k, \\theta_j] = \\frac{- \\alpha_k \\alpha_j}{\\alpha_0^2 (\\alpha_0 + 1)}, \\qquad \\text{para } j\\neq k\n",
    "   $$"
   ]
  },
  {
   "cell_type": "markdown",
   "metadata": {},
   "source": [
    "Entre muchas otras cosas, la distribución de Dirichlet es importante porque es la previa conjugada de una distribución multinomial.\n",
    "\n",
    "**Ejemplo:**\n",
    "\n",
    "Supongamos que Y es una VA que representa los tiros de un dado con diferentes probabilidades en cada cara:\n",
    "\n",
    "$$\n",
    "p(Y = i | \\theta) = \\theta_i,\n",
    "$$\n",
    "\n",
    "con $i=1,\\dots, 6$, $\\theta_i > 0$ y $\\sum_i \\theta_i = 1$."
   ]
  },
  {
   "cell_type": "markdown",
   "metadata": {},
   "source": [
    "Entonces, definiendo $N_i$ como el número de veces que el dado cayó en la cara $i$ en el conjunto de datos $X$, la funciónde verosimilitud es:\n",
    "\n",
    "$$\n",
    "p(X | \\theta) = \\theta_1^{N_1} \\theta_2^{N_2} \\dots \\theta_6^{N_6} = \\prod_{i=1}^{6} \\theta_i^{N_i}\n",
    "$$"
   ]
  },
  {
   "cell_type": "markdown",
   "metadata": {},
   "source": [
    "De modo que, si modelamos la previa de las probabilidades $\\theta$ como $p(\\theta) = \\text{Dir}(\\theta | \\alpha)$, tenemos que:\n",
    "\n",
    "$$\n",
    "p(\\theta | X) \\propto p(X | \\theta) p(\\theta) \\propto \\prod_{i=1}^{6} \\theta_i^{N_i + \\alpha_i - 1} = \\text{Dir}(\\theta | \\alpha + N).\n",
    "$$"
   ]
  },
  {
   "cell_type": "markdown",
   "metadata": {},
   "source": [
    "## 3. Modelo de Asignación Latente de Dirichlet\n",
    "\n",
    "Recordemos nuestro razonamiento inicial:\n",
    "\n",
    "> Un documento es una distribución sobre tópicos.\n",
    "\n",
    "> Un tópico es una distribución sobre palabras.\n",
    "\n",
    "Estas ideas nos permiten recrear un modelo generativo para textos de la siguiente manera:\n",
    "\n",
    "![](figures/text_model.png)"
   ]
  },
  {
   "cell_type": "markdown",
   "metadata": {},
   "source": [
    "De esta manera el modelo es:\n",
    "\n",
    "\n",
    "![](figures/lda.png)"
   ]
  },
  {
   "cell_type": "markdown",
   "metadata": {},
   "source": [
    "Lo anterior se conoce como un modelo de plantilla. Tenemos:\n",
    "\n",
    "- Una distribución documento-tópico $p(\\theta_d)$ para cada documento $d$.\n",
    "- Un tópico por cada palabra de cada documento, determinado por la distribución de documento $p(z_{dn} | \\theta_d)$.\n",
    "- Las palabras observadas (datos) dadas por $p(x_{dn} | z_{dn})$.\n",
    "\n",
    "Con lo anterior, la probabilidad conjunta de documentos, tópicos y palabras es:\n",
    "\n",
    "$$\n",
    "p(\\Theta, Z, X) = \\prod_{d=1}^{D} p(\\theta_d) \\prod_{n=1}^{N_d} p(z_{dn} | \\theta_d) p(x_{dn} | z_{dn})\n",
    "$$\n",
    "\n",
    "**Importante.** Este modelo no considera el orden de las palabras."
   ]
  },
  {
   "cell_type": "markdown",
   "metadata": {},
   "source": [
    "Ahora, ¿Cómo modelamos las anteriores distribuciones?\n",
    "\n",
    "- $p(\\theta_d) = \\text{Dir}(\\theta | \\alpha)$: Una distribución de Dirichlet donde el $t-$ésimo componente de $\\theta_{d t}$ representa la proporción del tópico $t$ en el documento d.\n",
    "- $p(z_{dn} | \\theta_d) = \\theta_{d z_{dn}}$\n",
    "- $p(x_{dn} | z_{dn}) = \\phi_{z_{dn} x_{dn}}$\n",
    "\n",
    "Las probabilidades de las palabras $x$ en el tópico $z$ las guardamos en la matriz $\\Phi \\in \\mathbb{R}^{T \\times W}$ ($T$ es el número de tópicos, y $W$ el número de palabras total en nuestro vocabulario). Por tanto las componentes de la matriz $\\Phi$ deben satisfacer:\n",
    "\n",
    "- $\\phi_{tx} \\geq 0, \\quad \\forall t, x$.\n",
    "- $\\sum_{x} \\phi_{tx} = 1, \\quad \\forall t$"
   ]
  },
  {
   "cell_type": "markdown",
   "metadata": {},
   "source": [
    "De modo que las variables en nuestro modelo son:\n",
    "\n",
    "1. $X$: palabras, datos -> **Observadas**.\n",
    "\n",
    "2. $\\Phi$: parámetros, distribución tópico-palabras -> **Desconocidos**.\n",
    "\n",
    "3. $Z$: variables latentes, tópico de cada palabra -> **Desconocidas**.\n",
    "\n",
    "4. $\\Theta$: variables latentes, distribución documento-tópicos -> **Desconocidas**."
   ]
  },
  {
   "cell_type": "markdown",
   "metadata": {},
   "source": [
    "<script>\n",
    "  $(document).ready(function(){\n",
    "    $('div.prompt').hide();\n",
    "    $('div.back-to-top').hide();\n",
    "    $('nav#menubar').hide();\n",
    "    $('.breadcrumb').hide();\n",
    "    $('.hidden-print').hide();\n",
    "  });\n",
    "</script>\n",
    "\n",
    "<footer id=\"attribution\" style=\"float:right; color:#808080; background:#fff;\">\n",
    "Created with Jupyter by Esteban Jiménez Rodríguez.\n",
    "</footer>"
   ]
  }
 ],
 "metadata": {
  "kernelspec": {
   "display_name": "Python 3",
   "language": "python",
   "name": "python3"
  },
  "language_info": {
   "codemirror_mode": {
    "name": "ipython",
    "version": 3
   },
   "file_extension": ".py",
   "mimetype": "text/x-python",
   "name": "python",
   "nbconvert_exporter": "python",
   "pygments_lexer": "ipython3",
   "version": "3.7.6"
  }
 },
 "nbformat": 4,
 "nbformat_minor": 4
}
